{
 "cells": [
  {
   "cell_type": "markdown",
   "id": "4189d984",
   "metadata": {},
   "source": [
    "# PYTHON PROJECT 1: SIMPLE CALCULATOR PROGRAM"
   ]
  },
  {
   "cell_type": "markdown",
   "id": "0be0dac2",
   "metadata": {},
   "source": [
    "In this project, I will create a simple calculator that can do basic mathematical operations such as <b>addition, subtraction, division, and multiplication</b>. This program will take 3 inputs from user:\n",
    "- Input 1: Number 1\n",
    "- Input 2: Number 2\n",
    "- Input 3: Choice of operation"
   ]
  },
  {
   "cell_type": "markdown",
   "id": "27086f3b",
   "metadata": {},
   "source": [
    "## Create def functions for each mathematical operations"
   ]
  },
  {
   "cell_type": "code",
   "execution_count": 1,
   "id": "b1d5f6c9",
   "metadata": {},
   "outputs": [],
   "source": [
    "#This function adds the two inputs\n",
    "def add(x,y):\n",
    "    return x + y\n",
    "\n",
    "#This function subtract the two inputs\n",
    "def subtract(x,y):\n",
    "    return x - y\n",
    "\n",
    "#This function divides the two inputs\n",
    "def divide(x,y):\n",
    "    return x / y\n",
    "\n",
    "#This function multiplies the two inputs\n",
    "def multiply(x,y):\n",
    "    return x * y"
   ]
  },
  {
   "cell_type": "markdown",
   "id": "466495af",
   "metadata": {},
   "source": [
    "## Create display text to prompt actions from users"
   ]
  },
  {
   "cell_type": "code",
   "execution_count": 4,
   "id": "a8bc44a4",
   "metadata": {},
   "outputs": [
    {
     "name": "stdout",
     "output_type": "stream",
     "text": [
      "This calculator offers 4 math operations:\n",
      "=============================================\n",
      "| A. Addition          (Number1 + Number2)  |\n",
      "| B. Subtraction       (Number1 - Number2)  |\n",
      "| C. Division          (Number1 / Number2)  |\n",
      "| D. Multiplication    (Number1 x Number2)  |\n",
      "=============================================\n",
      "Please choose an operation (A / B / C / D): b\n",
      "Please input Number1: 7\n",
      "Please input Number2: 3\n",
      "7.0 - 3.0 = 4.0\n"
     ]
    }
   ],
   "source": [
    "#Display text\n",
    "\n",
    "print(\"This calculator offers 4 math operations:\")\n",
    "print(\"=============================================\")\n",
    "print(\"| A. Addition          (Number1 + Number2)  |\")\n",
    "print(\"| B. Subtraction       (Number1 - Number2)  |\")\n",
    "print(\"| C. Division          (Number1 / Number2)  |\")\n",
    "print(\"| D. Multiplication    (Number1 x Number2)  |\")\n",
    "print(\"=============================================\")\n",
    "\n",
    "#Ask for input choice of math operation from users. \"While loop\" to execute code repeatedly. \n",
    "#Without while loop, the input prompt will appear above the print statement and will execute the code only once\n",
    "\n",
    "while True:\n",
    "    choice = input (\"Please choose an operation (A / B / C / D): \")\n",
    "    \n",
    "    #Prompt next input actions if the user's choice is in the provided selection. If not, repeat selection of operation\n",
    "    if choice in ('A','B','C','D','a','b','c','d'):\n",
    "        num1 = float(input (\"Please input Number1: \"))\n",
    "        num2 = float(input (\"Please input Number2: \"))\n",
    "        \n",
    "        if choice == 'A' or choice == 'a':\n",
    "            print(num1,\"+\",num2, \"=\", add(num1,num2))\n",
    "            \n",
    "        elif choice == 'B' or choice == 'b':\n",
    "            print(num1,\"-\",num2, \"=\", subtract(num1,num2))\n",
    "            \n",
    "        elif choice == 'C' or choice == 'c':\n",
    "            print(num1,\"/\",num2, \"=\", divide(num1,num2))\n",
    "\n",
    "        elif choice == 'D' or choice == 'd':\n",
    "            print(num1,\"x\",num2, \"=\", multiply(num1,num2))\n",
    "            \n",
    "        break\n",
    "    else:\n",
    "        print(\"Invalid input. Your choice is not in our options.\")\n"
   ]
  },
  {
   "cell_type": "markdown",
   "id": "d4bb7871",
   "metadata": {},
   "source": [
    "Thank you."
   ]
  }
 ],
 "metadata": {
  "kernelspec": {
   "display_name": "Python 3",
   "language": "python",
   "name": "python3"
  },
  "language_info": {
   "codemirror_mode": {
    "name": "ipython",
    "version": 3
   },
   "file_extension": ".py",
   "mimetype": "text/x-python",
   "name": "python",
   "nbconvert_exporter": "python",
   "pygments_lexer": "ipython3",
   "version": "3.8.8"
  },
  "toc": {
   "base_numbering": 1,
   "nav_menu": {},
   "number_sections": true,
   "sideBar": true,
   "skip_h1_title": false,
   "title_cell": "Table of Contents",
   "title_sidebar": "Contents",
   "toc_cell": false,
   "toc_position": {},
   "toc_section_display": true,
   "toc_window_display": false
  }
 },
 "nbformat": 4,
 "nbformat_minor": 5
}
