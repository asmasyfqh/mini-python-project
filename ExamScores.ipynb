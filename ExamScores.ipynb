{
 "cells": [
  {
   "cell_type": "markdown",
   "id": "69690f8e",
   "metadata": {},
   "source": [
    "# Mini Python Project 3: Exam Scores"
   ]
  },
  {
   "cell_type": "markdown",
   "id": "b044bd83",
   "metadata": {},
   "source": [
    "<small><i>Project inspired by a challenge in HackerRank</i></small>\n",
    "\n",
    "## Description\n",
    "The National University conducts an examination for <i><b>N</i></b> number of students in <i><b>S</i></b> number of subjects.\n",
    "\n",
    "## Task\n",
    "- The task is to compute the average scores of each student. The formula for calculating average score is as follows:\n",
    "\n",
    "<img src=\"avg_formula.png\" width=\"500\" />\n",
    "\n",
    "<b>Input Format</b><br>\n",
    "The first line reads <i><b>N</i></b> and the second line reads <i><b>S</i></b>.<br>\n",
    "The next lines contains the space separated marks obtained by students in a particular subject\n",
    "\n",
    "<b>Output</b><br>\n",
    "Print the averages of all students on separate lines.\n",
    "The averages must be correct up to decimal place"
   ]
  },
  {
   "cell_type": "code",
   "execution_count": 28,
   "id": "12313ba4",
   "metadata": {},
   "outputs": [
    {
     "name": "stdout",
     "output_type": "stream",
     "text": [
      "Number of students: 5\n",
      "Number of subjects: 3\n",
      "\n",
      "For each subject, enter exam marks for each student separated with a space. Example: 90 80 45\n",
      "\n",
      "Exam marks for 5 students: 89 90 78 93 80\n",
      "Exam marks for 5 students: 90 91 85 88 86\n",
      "Exam marks for 5 students: 91 92 83 89 90.5\n",
      "\n",
      "\n",
      "Subject Scores:  (89.0, 90.0, 91.0) Average Scores:  90.0\n",
      "Subject Scores:  (90.0, 91.0, 92.0) Average Scores:  91.0\n",
      "Subject Scores:  (78.0, 85.0, 83.0) Average Scores:  82.0\n",
      "Subject Scores:  (93.0, 88.0, 89.0) Average Scores:  90.0\n",
      "Subject Scores:  (80.0, 86.0, 90.5) Average Scores:  85.5\n"
     ]
    }
   ],
   "source": [
    "### Get inputs from user\n",
    "\n",
    "num_student = int(input(\"Number of students: \"))\n",
    "num_subject = int(input(\"Number of subjects: \"))\n",
    "\n",
    "# Declare a variable to hold a list\n",
    "mark_list=[]\n",
    "\n",
    "print(\"\\nFor each subject, enter exam marks for each student separated with a space. Example: 90 80 45\\n\")\n",
    "\n",
    "# For each subject, get exam marks from each student, separated with space.\n",
    "for num in range(1,num_subject + 1):\n",
    "    \n",
    "    marks = input(\"Exam marks for {} students: \".format(num_student)).split(\" \")\n",
    "    if len(marks)>num_student:\n",
    "        print(\"You need to enter scores for {} students only.\".format(num_student))\n",
    "        break\n",
    "\n",
    "    elif len(marks)<num_student:\n",
    "        print(\"You need to enter {} number of students.\".format(num_student))\n",
    "        break\n",
    "\n",
    "    else:\n",
    "        marks = [float(i) for i in marks]\n",
    "        mark_list.append(marks)  \n",
    "        \n",
    "num+=1\n",
    "\n",
    "# Transpose the list\n",
    "transposed = zip(*mark_list)\n",
    "\n",
    "print(\"\\n\")\n",
    "# Calculate average by row\n",
    "for subject in transposed:\n",
    "    avg = sum(subject) / len(subject)\n",
    "    print(\"Subject Scores: \",subject, \"Average Scores: \",round(avg, 2))"
   ]
  },
  {
   "cell_type": "code",
   "execution_count": null,
   "id": "456b015f",
   "metadata": {},
   "outputs": [],
   "source": []
  }
 ],
 "metadata": {
  "kernelspec": {
   "display_name": "Python 3",
   "language": "python",
   "name": "python3"
  },
  "language_info": {
   "codemirror_mode": {
    "name": "ipython",
    "version": 3
   },
   "file_extension": ".py",
   "mimetype": "text/x-python",
   "name": "python",
   "nbconvert_exporter": "python",
   "pygments_lexer": "ipython3",
   "version": "3.8.8"
  },
  "toc": {
   "base_numbering": 1,
   "nav_menu": {},
   "number_sections": true,
   "sideBar": true,
   "skip_h1_title": false,
   "title_cell": "Table of Contents",
   "title_sidebar": "Contents",
   "toc_cell": false,
   "toc_position": {},
   "toc_section_display": true,
   "toc_window_display": false
  }
 },
 "nbformat": 4,
 "nbformat_minor": 5
}
