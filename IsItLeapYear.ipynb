{
 "cells": [
  {
   "cell_type": "markdown",
   "id": "150e4892",
   "metadata": {},
   "source": [
    "# Mini Python Project 3: Is It A Leap Year?"
   ]
  },
  {
   "cell_type": "markdown",
   "id": "21b90344",
   "metadata": {},
   "source": [
    "<small><i>Project inspired by a challenge in HackerRank</i></small>\n",
    "\n",
    "## Description\n",
    "We add a Leap Day on February 29, almost every four years. The leap day is an extra, or intercalary day\n",
    "and we add it to the shortest month of the year, February.<br>\n",
    "In the Gregorian calendar three criteria must be taken into account to identify leap years:\n",
    "-The year can be evenly divided by 4, is a leap year, unless:\n",
    "    -The year can be evenly divided by 100, it is NOT a leap year, unless:\n",
    "        -The year is also evenly divisible by 400. Then it is a leap year.<br>\n",
    "        \n",
    "This means that in the Gregorian calendar, the years 2000 and 2400 are leap years, while 1800, 1900,\n",
    "2100, 2200, 2300 and 2500 are NOT leap years.<br>\n",
    "\n",
    "## Task\n",
    "You are given the year, and you have to write a function to check if the year is leap or not. \n",
    "\n",
    "<b>Input Format</b><br>\n",
    "Read <i>year</i>, the year that needs to be checked.\n",
    "\n",
    "<b>Constraints</b><br>\n",
    "1990 < year < 10^5\n",
    "\n",
    "<b>Output</b><br>\n",
    "The output should be <b>True</b> or <b>False</b>.\n",
    "\n"
   ]
  },
  {
   "cell_type": "code",
   "execution_count": 1,
   "id": "b1184f98",
   "metadata": {},
   "outputs": [
    {
     "name": "stdout",
     "output_type": "stream",
     "text": [
      "Enter a year: 2100\n",
      "False\n"
     ]
    }
   ],
   "source": [
    "def is_leap(year):\n",
    "    leap = False\n",
    "    \n",
    "    if year<2000 and year%4==0:\n",
    "        leap = True\n",
    "        \n",
    "    elif year>=2000 and year%4==0:\n",
    "        if year%100==0:\n",
    "            if year%400==0:\n",
    "                leap = True\n",
    "            else:\n",
    "                leap = False\n",
    "    else:\n",
    "        leap = False\n",
    "    \n",
    "    return leap\n",
    "\n",
    "year = int(input(\"Enter a year: \"))\n",
    "print(is_leap(year))"
   ]
  },
  {
   "cell_type": "code",
   "execution_count": null,
   "id": "9590692b",
   "metadata": {},
   "outputs": [],
   "source": []
  }
 ],
 "metadata": {
  "kernelspec": {
   "display_name": "Python 3",
   "language": "python",
   "name": "python3"
  },
  "language_info": {
   "codemirror_mode": {
    "name": "ipython",
    "version": 3
   },
   "file_extension": ".py",
   "mimetype": "text/x-python",
   "name": "python",
   "nbconvert_exporter": "python",
   "pygments_lexer": "ipython3",
   "version": "3.8.8"
  },
  "toc": {
   "base_numbering": 1,
   "nav_menu": {},
   "number_sections": true,
   "sideBar": true,
   "skip_h1_title": false,
   "title_cell": "Table of Contents",
   "title_sidebar": "Contents",
   "toc_cell": false,
   "toc_position": {},
   "toc_section_display": true,
   "toc_window_display": false
  }
 },
 "nbformat": 4,
 "nbformat_minor": 5
}
